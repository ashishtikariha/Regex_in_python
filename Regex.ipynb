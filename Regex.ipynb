{
 "cells": [
  {
   "cell_type": "markdown",
   "metadata": {},
   "source": [
    "## Ashish Tikariha\n",
    "## ashishtikaria5@gmail.com\n",
    "## Ph : 7987777139"
   ]
  },
  {
   "cell_type": "markdown",
   "metadata": {},
   "source": [
    "# Regex - regular expression\n",
    "\n",
    "## Usecases\n",
    "\n",
    "## 1 extracting a particular pattern (mail , phone ,address) from a huge text\n",
    "## 2 user validation i.e. indentifying incorrect pattern"
   ]
  },
  {
   "cell_type": "code",
   "execution_count": null,
   "metadata": {},
   "outputs": [],
   "source": [
    "# you need to remember this....no other option\n",
    "\n",
    "# \\.     - dot\n",
    "# .      - Any character Except newline\n",
    "# \\d     - Digit(0-9)\n",
    "# \\D     - Not a digit(0-9)\n",
    "# \\w     - Word character (a-z , A-Z , 0-9 , _ )\n",
    "# \\W     - not a word charcter\n",
    "# \\s     - whitespaces ( spaces , tab , newline)\n",
    "# \\S     - not whitespaces \n",
    "\n",
    "\n",
    "# \\b - Word boundry\n",
    "# \\B - not a word boundry\n",
    "# ^ - begining of the string\n",
    "# $ - Endof the string\n",
    "\n",
    "\n",
    "# [] -  matchers character in brackets\n",
    "# [^ ] - match character not in the bracket\n",
    "# |  - Either or\n",
    "# () - Group\n",
    "\n",
    "\n",
    "# Qunatifiers:\n",
    "\n",
    "# * - 0 or more\n",
    "# + - 1 or more\n",
    "# ? - 0 or 1\n",
    "# {3} - Exact number\n",
    "# {3,4} - range of number { min , max}"
   ]
  },
  {
   "cell_type": "markdown",
   "metadata": {},
   "source": [
    "### To work with regular expressions, we need to import library (re)"
   ]
  },
  {
   "cell_type": "code",
   "execution_count": 1,
   "metadata": {},
   "outputs": [],
   "source": [
    "import re"
   ]
  },
  {
   "cell_type": "code",
   "execution_count": 10,
   "metadata": {},
   "outputs": [
    {
     "name": "stdout",
     "output_type": "stream",
     "text": [
      "Hello\\nWorld\n"
     ]
    }
   ],
   "source": [
    "print(r'Hello\\nWorld')           # Raw string"
   ]
  },
  {
   "cell_type": "code",
   "execution_count": 25,
   "metadata": {},
   "outputs": [],
   "source": [
    "text_1 = '''abcdefghijklmnopqurtuvwxyz\n",
    "ABCDEFGHIJKLMNOPQRSTUVWXYZ\\s\n",
    "321-555-4321\n",
    "1234567890\n",
    "Ha HaHa\n",
    "MetaCharacters (Need to be escaped):\n",
    ". ^ $ * + ? { } [ ] \\ | ( )\n",
    "khanafsaan11.com\n",
    "321-555-4321\n",
    "123.555.1234\n",
    "123*555*-1234\n",
    "123.555.1234\n",
    "800-555-1234\n",
    "900-555-1234\n",
    "Mr. Schafer\n",
    "Mr Smith\n",
    "Ms Davis\n",
    "Mrs. Robinson\n",
    "Mr. T\n",
    "Mr_hello\n",
    "'''\n",
    "\n",
    "text_2 = \"123345hcgfjrtk7865____48[(gv{hfhrg})]\""
   ]
  },
  {
   "cell_type": "code",
   "execution_count": 11,
   "metadata": {},
   "outputs": [
    {
     "name": "stdout",
     "output_type": "stream",
     "text": [
      "<callable_iterator object at 0x0000012FAE56EB80>\n",
      "----------------------------------------------------------------\n",
      "<re.Match object; span=(0, 3), match='abc'>\n"
     ]
    }
   ],
   "source": [
    "pattern = re.compile('abc')                       # put the text that you want to search in particular file\n",
    "\n",
    "matches = pattern.finditer(text_1)                # text in which you want to search\n",
    "\n",
    "print(matches)        # Will give iterator\n",
    "\n",
    "print('----------------------------------------------------------------')\n",
    "\n",
    "for i in matches:\n",
    "    print(i)           # span of 'abc' will be printed "
   ]
  },
  {
   "cell_type": "code",
   "execution_count": 14,
   "metadata": {},
   "outputs": [
    {
     "name": "stdout",
     "output_type": "stream",
     "text": [
      "abc\n"
     ]
    }
   ],
   "source": [
    "print(text_1[0:3])        # Just to check"
   ]
  },
  {
   "cell_type": "code",
   "execution_count": 18,
   "metadata": {},
   "outputs": [
    {
     "name": "stdout",
     "output_type": "stream",
     "text": [
      "<re.Match object; span=(0, 1), match='1'>\n",
      "<re.Match object; span=(1, 2), match='2'>\n",
      "<re.Match object; span=(2, 3), match='3'>\n",
      "<re.Match object; span=(3, 4), match='3'>\n",
      "<re.Match object; span=(4, 5), match='4'>\n",
      "<re.Match object; span=(5, 6), match='5'>\n",
      "<re.Match object; span=(6, 7), match='h'>\n",
      "<re.Match object; span=(7, 8), match='c'>\n",
      "<re.Match object; span=(8, 9), match='g'>\n",
      "<re.Match object; span=(9, 10), match='f'>\n",
      "<re.Match object; span=(10, 11), match='j'>\n",
      "<re.Match object; span=(11, 12), match='r'>\n",
      "<re.Match object; span=(12, 13), match='t'>\n",
      "<re.Match object; span=(13, 14), match='k'>\n",
      "<re.Match object; span=(14, 15), match='7'>\n",
      "<re.Match object; span=(15, 16), match='8'>\n",
      "<re.Match object; span=(16, 17), match='6'>\n",
      "<re.Match object; span=(17, 18), match='5'>\n",
      "<re.Match object; span=(18, 19), match='4'>\n",
      "<re.Match object; span=(19, 20), match='8'>\n",
      "<re.Match object; span=(20, 21), match='['>\n",
      "<re.Match object; span=(21, 22), match='('>\n",
      "<re.Match object; span=(22, 23), match='g'>\n",
      "<re.Match object; span=(23, 24), match='v'>\n",
      "<re.Match object; span=(24, 25), match='{'>\n",
      "<re.Match object; span=(25, 26), match='h'>\n",
      "<re.Match object; span=(26, 27), match='f'>\n",
      "<re.Match object; span=(27, 28), match='h'>\n",
      "<re.Match object; span=(28, 29), match='r'>\n",
      "<re.Match object; span=(29, 30), match='g'>\n",
      "<re.Match object; span=(30, 31), match='}'>\n",
      "<re.Match object; span=(31, 32), match=')'>\n",
      "<re.Match object; span=(32, 33), match=']'>\n"
     ]
    }
   ],
   "source": [
    "# Dot(.)\n",
    "\n",
    "pattern = re.compile('.')\n",
    "\n",
    "matches = pattern.finditer(text_2)\n",
    "\n",
    "for match in matches:\n",
    "    print(match)                  # print span of every character except \\n\n"
   ]
  },
  {
   "cell_type": "code",
   "execution_count": 20,
   "metadata": {},
   "outputs": [
    {
     "name": "stdout",
     "output_type": "stream",
     "text": [
      "<re.Match object; span=(0, 1), match='1'>\n",
      "<re.Match object; span=(1, 2), match='2'>\n",
      "<re.Match object; span=(2, 3), match='3'>\n",
      "<re.Match object; span=(3, 4), match='3'>\n",
      "<re.Match object; span=(4, 5), match='4'>\n",
      "<re.Match object; span=(5, 6), match='5'>\n",
      "<re.Match object; span=(14, 15), match='7'>\n",
      "<re.Match object; span=(15, 16), match='8'>\n",
      "<re.Match object; span=(16, 17), match='6'>\n",
      "<re.Match object; span=(17, 18), match='5'>\n",
      "<re.Match object; span=(18, 19), match='4'>\n",
      "<re.Match object; span=(19, 20), match='8'>\n"
     ]
    }
   ],
   "source": [
    "# \\d ---> (0-9)\n",
    "pattern = re.compile('\\d')\n",
    "\n",
    "matches = pattern.finditer(text_2)\n",
    "\n",
    "for match in matches:\n",
    "    print(match)"
   ]
  },
  {
   "cell_type": "code",
   "execution_count": 23,
   "metadata": {},
   "outputs": [
    {
     "name": "stdout",
     "output_type": "stream",
     "text": [
      "<re.Match object; span=(6, 7), match='h'>\n",
      "<re.Match object; span=(7, 8), match='c'>\n",
      "<re.Match object; span=(8, 9), match='g'>\n",
      "<re.Match object; span=(9, 10), match='f'>\n",
      "<re.Match object; span=(10, 11), match='j'>\n",
      "<re.Match object; span=(11, 12), match='r'>\n",
      "<re.Match object; span=(12, 13), match='t'>\n",
      "<re.Match object; span=(13, 14), match='k'>\n",
      "<re.Match object; span=(20, 21), match='['>\n",
      "<re.Match object; span=(21, 22), match='('>\n",
      "<re.Match object; span=(22, 23), match='g'>\n",
      "<re.Match object; span=(23, 24), match='v'>\n",
      "<re.Match object; span=(24, 25), match='{'>\n",
      "<re.Match object; span=(25, 26), match='h'>\n",
      "<re.Match object; span=(26, 27), match='f'>\n",
      "<re.Match object; span=(27, 28), match='h'>\n",
      "<re.Match object; span=(28, 29), match='r'>\n",
      "<re.Match object; span=(29, 30), match='g'>\n",
      "<re.Match object; span=(30, 31), match='}'>\n",
      "<re.Match object; span=(31, 32), match=')'>\n",
      "<re.Match object; span=(32, 33), match=']'>\n"
     ]
    }
   ],
   "source": [
    "# \\D ----> everthing except (0-9)\n",
    "pattern = re.compile('\\D')\n",
    "\n",
    "matches = pattern.finditer(text_2)\n",
    "\n",
    "for match in matches:\n",
    "    print(match)"
   ]
  },
  {
   "cell_type": "code",
   "execution_count": 26,
   "metadata": {},
   "outputs": [
    {
     "name": "stdout",
     "output_type": "stream",
     "text": [
      "<re.Match object; span=(0, 1), match='1'>\n",
      "<re.Match object; span=(1, 2), match='2'>\n",
      "<re.Match object; span=(2, 3), match='3'>\n",
      "<re.Match object; span=(3, 4), match='3'>\n",
      "<re.Match object; span=(4, 5), match='4'>\n",
      "<re.Match object; span=(5, 6), match='5'>\n",
      "<re.Match object; span=(6, 7), match='h'>\n",
      "<re.Match object; span=(7, 8), match='c'>\n",
      "<re.Match object; span=(8, 9), match='g'>\n",
      "<re.Match object; span=(9, 10), match='f'>\n",
      "<re.Match object; span=(10, 11), match='j'>\n",
      "<re.Match object; span=(11, 12), match='r'>\n",
      "<re.Match object; span=(12, 13), match='t'>\n",
      "<re.Match object; span=(13, 14), match='k'>\n",
      "<re.Match object; span=(14, 15), match='7'>\n",
      "<re.Match object; span=(15, 16), match='8'>\n",
      "<re.Match object; span=(16, 17), match='6'>\n",
      "<re.Match object; span=(17, 18), match='5'>\n",
      "<re.Match object; span=(18, 19), match='_'>\n",
      "<re.Match object; span=(19, 20), match='_'>\n",
      "<re.Match object; span=(20, 21), match='_'>\n",
      "<re.Match object; span=(21, 22), match='_'>\n",
      "<re.Match object; span=(22, 23), match='4'>\n",
      "<re.Match object; span=(23, 24), match='8'>\n",
      "<re.Match object; span=(26, 27), match='g'>\n",
      "<re.Match object; span=(27, 28), match='v'>\n",
      "<re.Match object; span=(29, 30), match='h'>\n",
      "<re.Match object; span=(30, 31), match='f'>\n",
      "<re.Match object; span=(31, 32), match='h'>\n",
      "<re.Match object; span=(32, 33), match='r'>\n",
      "<re.Match object; span=(33, 34), match='g'>\n"
     ]
    }
   ],
   "source": [
    "# \\w ----> Word character \n",
    "pattern = re.compile('\\w')\n",
    "\n",
    "matches = pattern.finditer(text_2)\n",
    "\n",
    "for match in matches:\n",
    "    print(match)"
   ]
  },
  {
   "cell_type": "code",
   "execution_count": 27,
   "metadata": {},
   "outputs": [
    {
     "name": "stdout",
     "output_type": "stream",
     "text": [
      "<re.Match object; span=(24, 25), match='['>\n",
      "<re.Match object; span=(25, 26), match='('>\n",
      "<re.Match object; span=(28, 29), match='{'>\n",
      "<re.Match object; span=(34, 35), match='}'>\n",
      "<re.Match object; span=(35, 36), match=')'>\n",
      "<re.Match object; span=(36, 37), match=']'>\n"
     ]
    }
   ],
   "source": [
    "# \\W ---> not Word character \n",
    "pattern = re.compile('\\W')\n",
    "\n",
    "matches = pattern.finditer(text_2)\n",
    "\n",
    "for match in matches:\n",
    "    print(match)"
   ]
  },
  {
   "cell_type": "code",
   "execution_count": 29,
   "metadata": {},
   "outputs": [
    {
     "name": "stdout",
     "output_type": "stream",
     "text": [
      "<re.Match object; span=(26, 27), match='\\n'>\n",
      "<re.Match object; span=(55, 56), match='\\n'>\n",
      "<re.Match object; span=(68, 69), match='\\n'>\n",
      "<re.Match object; span=(79, 80), match='\\n'>\n",
      "<re.Match object; span=(82, 83), match=' '>\n",
      "<re.Match object; span=(87, 88), match='\\n'>\n",
      "<re.Match object; span=(102, 103), match=' '>\n",
      "<re.Match object; span=(108, 109), match=' '>\n",
      "<re.Match object; span=(111, 112), match=' '>\n",
      "<re.Match object; span=(114, 115), match=' '>\n",
      "<re.Match object; span=(124, 125), match='\\n'>\n",
      "<re.Match object; span=(126, 127), match=' '>\n",
      "<re.Match object; span=(128, 129), match=' '>\n",
      "<re.Match object; span=(130, 131), match=' '>\n",
      "<re.Match object; span=(132, 133), match=' '>\n",
      "<re.Match object; span=(134, 135), match=' '>\n",
      "<re.Match object; span=(136, 137), match=' '>\n",
      "<re.Match object; span=(138, 139), match=' '>\n",
      "<re.Match object; span=(140, 141), match=' '>\n",
      "<re.Match object; span=(142, 143), match=' '>\n",
      "<re.Match object; span=(144, 145), match=' '>\n",
      "<re.Match object; span=(146, 147), match=' '>\n",
      "<re.Match object; span=(148, 149), match=' '>\n",
      "<re.Match object; span=(150, 151), match=' '>\n",
      "<re.Match object; span=(152, 153), match='\\n'>\n",
      "<re.Match object; span=(169, 170), match='\\n'>\n",
      "<re.Match object; span=(182, 183), match='\\n'>\n",
      "<re.Match object; span=(195, 196), match='\\n'>\n",
      "<re.Match object; span=(209, 210), match='\\n'>\n",
      "<re.Match object; span=(222, 223), match='\\n'>\n",
      "<re.Match object; span=(235, 236), match='\\n'>\n",
      "<re.Match object; span=(248, 249), match='\\n'>\n",
      "<re.Match object; span=(252, 253), match=' '>\n",
      "<re.Match object; span=(260, 261), match='\\n'>\n",
      "<re.Match object; span=(263, 264), match=' '>\n",
      "<re.Match object; span=(269, 270), match='\\n'>\n",
      "<re.Match object; span=(272, 273), match=' '>\n",
      "<re.Match object; span=(278, 279), match='\\n'>\n",
      "<re.Match object; span=(283, 284), match=' '>\n",
      "<re.Match object; span=(292, 293), match='\\n'>\n",
      "<re.Match object; span=(296, 297), match=' '>\n",
      "<re.Match object; span=(298, 299), match='\\n'>\n",
      "<re.Match object; span=(307, 308), match='\\n'>\n"
     ]
    }
   ],
   "source": [
    "# \\s ---> whitespace(space , tab . newline)\n",
    "\n",
    "pattern = re.compile('\\s')\n",
    "\n",
    "matches = pattern.finditer(text_1)\n",
    "\n",
    "for match in matches:\n",
    "    print(match)"
   ]
  },
  {
   "cell_type": "code",
   "execution_count": 31,
   "metadata": {},
   "outputs": [
    {
     "name": "stdout",
     "output_type": "stream",
     "text": [
      "<re.Match object; span=(0, 1), match='1'>\n",
      "<re.Match object; span=(1, 2), match='2'>\n",
      "<re.Match object; span=(2, 3), match='3'>\n",
      "<re.Match object; span=(3, 4), match='3'>\n",
      "<re.Match object; span=(4, 5), match='4'>\n",
      "<re.Match object; span=(5, 6), match='5'>\n",
      "<re.Match object; span=(6, 7), match='h'>\n",
      "<re.Match object; span=(7, 8), match='c'>\n",
      "<re.Match object; span=(8, 9), match='g'>\n",
      "<re.Match object; span=(9, 10), match='f'>\n",
      "<re.Match object; span=(10, 11), match='j'>\n",
      "<re.Match object; span=(11, 12), match='r'>\n",
      "<re.Match object; span=(12, 13), match='t'>\n",
      "<re.Match object; span=(13, 14), match='k'>\n",
      "<re.Match object; span=(14, 15), match='7'>\n",
      "<re.Match object; span=(15, 16), match='8'>\n",
      "<re.Match object; span=(16, 17), match='6'>\n",
      "<re.Match object; span=(17, 18), match='5'>\n",
      "<re.Match object; span=(18, 19), match='_'>\n",
      "<re.Match object; span=(19, 20), match='_'>\n",
      "<re.Match object; span=(20, 21), match='_'>\n",
      "<re.Match object; span=(21, 22), match='_'>\n",
      "<re.Match object; span=(22, 23), match='4'>\n",
      "<re.Match object; span=(23, 24), match='8'>\n",
      "<re.Match object; span=(24, 25), match='['>\n",
      "<re.Match object; span=(25, 26), match='('>\n",
      "<re.Match object; span=(26, 27), match='g'>\n",
      "<re.Match object; span=(27, 28), match='v'>\n",
      "<re.Match object; span=(28, 29), match='{'>\n",
      "<re.Match object; span=(29, 30), match='h'>\n",
      "<re.Match object; span=(30, 31), match='f'>\n",
      "<re.Match object; span=(31, 32), match='h'>\n",
      "<re.Match object; span=(32, 33), match='r'>\n",
      "<re.Match object; span=(33, 34), match='g'>\n",
      "<re.Match object; span=(34, 35), match='}'>\n",
      "<re.Match object; span=(35, 36), match=')'>\n",
      "<re.Match object; span=(36, 37), match=']'>\n"
     ]
    }
   ],
   "source": [
    "#\\S ---> not whitespace\n",
    "\n",
    "pattern = re.compile('\\S')\n",
    "\n",
    "matches = pattern.finditer(text_2)\n",
    "\n",
    "for match in matches:\n",
    "    print(match)"
   ]
  },
  {
   "cell_type": "code",
   "execution_count": 32,
   "metadata": {},
   "outputs": [
    {
     "name": "stdout",
     "output_type": "stream",
     "text": [
      "<re.Match object; span=(0, 3), match='cat'>\n",
      "<re.Match object; span=(4, 7), match='cat'>\n",
      "<re.Match object; span=(14, 17), match='cat'>\n",
      "<re.Match object; span=(27, 30), match='cat'>\n",
      "<re.Match object; span=(35, 38), match='cat'>\n",
      "<re.Match object; span=(41, 44), match='cat'>\n"
     ]
    }
   ],
   "source": [
    "# \\b -- word boundry\n",
    "\n",
    "string = 'cat catherine catholic wildcat copycat uncathable'\n",
    "\n",
    "pattern = re.compile('cat')\n",
    "\n",
    "matches = pattern.finditer(string)\n",
    "\n",
    "for match in matches:\n",
    "    print(match)"
   ]
  },
  {
   "cell_type": "code",
   "execution_count": 33,
   "metadata": {},
   "outputs": [
    {
     "name": "stdout",
     "output_type": "stream",
     "text": [
      "<re.Match object; span=(0, 4), match='cat '>\n",
      "<re.Match object; span=(27, 31), match='cat '>\n",
      "<re.Match object; span=(35, 39), match='cat '>\n"
     ]
    }
   ],
   "source": [
    "# What if we want only 'cat' not other words having cat....lets try by giving space with cat\n",
    "\n",
    "string = 'cat catherine catholic wildcat copycat uncathable'\n",
    "\n",
    "pattern = re.compile('cat ')\n",
    "\n",
    "matches = pattern.finditer(string)\n",
    "\n",
    "for match in matches:\n",
    "    print(match)"
   ]
  },
  {
   "cell_type": "code",
   "execution_count": 34,
   "metadata": {},
   "outputs": [
    {
     "name": "stdout",
     "output_type": "stream",
     "text": [
      "<re.Match object; span=(0, 3), match='cat'>\n"
     ]
    }
   ],
   "source": [
    "# That also didnt work...Here comes the importance of word boundary\n",
    "\n",
    "string = 'cat catherine catholic wildcat copycat uncathable'\n",
    "\n",
    "pattern = re.compile(r'\\bcat\\b')   # It will take only those 'cat' whose left & right both boundaries are non alphanumeric\n",
    "                                   # Using raw string coz \\b is something else in python\n",
    "matches = pattern.finditer(string)\n",
    "\n",
    "for match in matches:\n",
    "    print(match)"
   ]
  },
  {
   "cell_type": "code",
   "execution_count": 35,
   "metadata": {},
   "outputs": [
    {
     "name": "stdout",
     "output_type": "stream",
     "text": [
      "<re.Match object; span=(8, 9), match='s'>\n",
      "<re.Match object; span=(18, 19), match='s'>\n"
     ]
    }
   ],
   "source": [
    "string_1 = 'she sells seashells'\n",
    "\n",
    "pattern = re.compile(r's\\b')   # only those 's' will be extracted whose right end is non alphanumeric    \n",
    "\n",
    "matches = pattern.finditer(string_1)\n",
    "\n",
    "for match in matches:\n",
    "    print(match)"
   ]
  },
  {
   "cell_type": "code",
   "execution_count": 42,
   "metadata": {},
   "outputs": [
    {
     "name": "stdout",
     "output_type": "stream",
     "text": [
      "<re.Match object; span=(41, 44), match='cat'>\n",
      "49\n"
     ]
    }
   ],
   "source": [
    "string = 'cat catherine catholic wildcat copycat uncathable'\n",
    "pattern = re.compile(r'\\Bcat\\B')   # only those 'cat' will be extracted whose both ends are alphanumeric    \n",
    "matches = pattern.finditer(string)\n",
    "\n",
    "for match in matches:\n",
    "    print(match)\n",
    "print(len(string))"
   ]
  },
  {
   "cell_type": "code",
   "execution_count": 43,
   "metadata": {},
   "outputs": [
    {
     "name": "stdout",
     "output_type": "stream",
     "text": [
      "<re.Match object; span=(0, 2), match='sh'>\n"
     ]
    }
   ],
   "source": [
    "# ^ - beggining of the string\n",
    "\n",
    "\n",
    "string_1 = 'she sells seashells sea'\n",
    "\n",
    "pattern = re.compile(r'^sh')      # If string begins with 'sh' it will give output otherwise no output\n",
    "\n",
    "matches = pattern.finditer(string_1)\n",
    "\n",
    "for match in matches:\n",
    "    print(match)"
   ]
  },
  {
   "cell_type": "code",
   "execution_count": 44,
   "metadata": {},
   "outputs": [],
   "source": [
    "string_1 = 'she sells seashells sea'\n",
    "\n",
    "pattern = re.compile(r'^su')      # If string begins with 'su' it will give output otherwise no output\n",
    "\n",
    "matches = pattern.finditer(string_1)\n",
    "\n",
    "for match in matches:\n",
    "    print(match)"
   ]
  },
  {
   "cell_type": "code",
   "execution_count": 46,
   "metadata": {},
   "outputs": [
    {
     "name": "stdout",
     "output_type": "stream",
     "text": [
      "<re.Match object; span=(20, 23), match='sea'>\n"
     ]
    }
   ],
   "source": [
    "#$ - end of the string\n",
    "\n",
    "\n",
    "string_1 = 'she sells seashells sea'\n",
    "\n",
    "pattern = re.compile(r'sea$')    # If string ends with 'sea' it will give output otherwise no output\n",
    "\n",
    "matches = pattern.finditer(string_1)\n",
    "\n",
    "for match in matches:\n",
    "    print(match)"
   ]
  },
  {
   "cell_type": "code",
   "execution_count": 47,
   "metadata": {},
   "outputs": [],
   "source": [
    "string_1 = 'she sells seashells sea'\n",
    "\n",
    "pattern = re.compile(r'sup$')    # If string ends with 'sup' it will give output otherwise no output\n",
    "\n",
    "matches = pattern.finditer(string_1)\n",
    "\n",
    "for match in matches:\n",
    "    print(match)"
   ]
  },
  {
   "cell_type": "code",
   "execution_count": 4,
   "metadata": {},
   "outputs": [
    {
     "name": "stdout",
     "output_type": "stream",
     "text": [
      "<re.Match object; span=(182, 194), match='321-555-4321'>\n",
      "<re.Match object; span=(235, 247), match='800-555-1234'>\n",
      "<re.Match object; span=(248, 260), match='900-555-1234'>\n"
     ]
    }
   ],
   "source": [
    "# Question\n",
    "\n",
    "import re\n",
    "\n",
    "# Extract all the phone numbers from the following text, a valid phone number looks like '321-578-9586'.\n",
    "\n",
    "# '\\b\\d\\d\\d-\\d\\d\\d-\\d\\d\\d\\d\\b' is what we will be searching for.\n",
    "\n",
    "# Word boundary is needed bcoz left and right end cant be numbers\n",
    "\n",
    "text_5 = '''abcdefghijklmnopqurtuvwxyz          \n",
    "ABCDEFGHIJKLMNOPQRSTUVWXYZ\\s\n",
    "4321-555-43218                        \n",
    "1234567890\n",
    "Ha HaHa\n",
    "MetaCharacters (Need to be escaped):\n",
    ". ^ $ * + ? { } [ ] \\ | ( )\n",
    "khanafsaan11.com\n",
    "321-555-4321\n",
    "123.555.1234\n",
    "123*555*-1234\n",
    "123.555.1234\n",
    "800-555-1234\n",
    "900-555-1234\n",
    "900 555 1234\n",
    "Mr. Schafer\n",
    "Mr Smith\n",
    "Ms Davis\n",
    "Mrs. Robinson\n",
    "Mr. T\n",
    "Mr_hello\n",
    "'''\n",
    "\n",
    "pattern = re.compile(r'\\b\\d\\d\\d-\\d\\d\\d-\\d\\d\\d\\d\\b')\n",
    "\n",
    "matches = pattern.finditer(text_5)\n",
    "\n",
    "for match in matches:\n",
    "    print(match)"
   ]
  },
  {
   "cell_type": "code",
   "execution_count": 7,
   "metadata": {},
   "outputs": [
    {
     "name": "stdout",
     "output_type": "stream",
     "text": [
      "<re.Match object; span=(12, 24), match='615-555-7164'>\n",
      "<re.Match object; span=(102, 114), match='800-555-5669'>\n",
      "<re.Match object; span=(191, 203), match='560-555-5153'>\n",
      "<re.Match object; span=(281, 293), match='900-555-9340'>\n",
      "<re.Match object; span=(378, 390), match='714-555-7405'>\n",
      "<re.Match object; span=(467, 479), match='800-555-6771'>\n",
      "<re.Match object; span=(557, 569), match='783-555-4799'>\n",
      "<re.Match object; span=(647, 659), match='516-555-4615'>\n",
      "<re.Match object; span=(740, 752), match='127-555-1867'>\n",
      "<re.Match object; span=(831, 843), match='608-555-4938'>\n",
      "<re.Match object; span=(917, 929), match='568-555-6051'>\n",
      "<re.Match object; span=(1005, 1017), match='292-555-1875'>\n",
      "<re.Match object; span=(1093, 1105), match='900-555-3205'>\n",
      "<re.Match object; span=(1182, 1194), match='614-555-1166'>\n",
      "<re.Match object; span=(1273, 1285), match='530-555-2676'>\n",
      "<re.Match object; span=(1359, 1371), match='470-555-2750'>\n",
      "<re.Match object; span=(1443, 1455), match='800-555-6089'>\n",
      "<re.Match object; span=(1530, 1542), match='880-555-8319'>\n",
      "<re.Match object; span=(1618, 1630), match='777-555-8378'>\n",
      "<re.Match object; span=(1701, 1713), match='998-555-7385'>\n",
      "<re.Match object; span=(1794, 1806), match='800-555-7100'>\n",
      "<re.Match object; span=(1878, 1890), match='903-555-8277'>\n",
      "<re.Match object; span=(1966, 1978), match='196-555-5674'>\n",
      "<re.Match object; span=(2055, 2067), match='900-555-5118'>\n",
      "<re.Match object; span=(2139, 2151), match='905-555-1630'>\n",
      "<re.Match object; span=(2220, 2232), match='203-555-3475'>\n",
      "<re.Match object; span=(2304, 2316), match='884-555-8444'>\n",
      "<re.Match object; span=(2391, 2403), match='904-555-8559'>\n",
      "<re.Match object; span=(2479, 2491), match='889-555-7393'>\n",
      "<re.Match object; span=(2566, 2578), match='195-555-2405'>\n",
      "<re.Match object; span=(2651, 2663), match='321-555-9053'>\n",
      "<re.Match object; span=(2738, 2750), match='133-555-1711'>\n",
      "<re.Match object; span=(2830, 2842), match='900-555-5428'>\n",
      "<re.Match object; span=(2919, 2931), match='760-555-7147'>\n",
      "<re.Match object; span=(3018, 3030), match='391-555-6621'>\n",
      "<re.Match object; span=(3109, 3121), match='932-555-7724'>\n",
      "<re.Match object; span=(3198, 3210), match='609-555-7908'>\n",
      "<re.Match object; span=(3290, 3302), match='800-555-8810'>\n",
      "<re.Match object; span=(3378, 3390), match='149-555-7657'>\n",
      "<re.Match object; span=(3458, 3470), match='130-555-9709'>\n",
      "<re.Match object; span=(3541, 3553), match='143-555-9295'>\n",
      "<re.Match object; span=(3630, 3642), match='903-555-9878'>\n",
      "<re.Match object; span=(3720, 3732), match='574-555-3194'>\n",
      "<re.Match object; span=(3808, 3820), match='496-555-7533'>\n",
      "<re.Match object; span=(3893, 3905), match='210-555-3757'>\n",
      "<re.Match object; span=(3977, 3989), match='900-555-9598'>\n",
      "<re.Match object; span=(4062, 4074), match='866-555-9844'>\n",
      "<re.Match object; span=(4146, 4158), match='669-555-7159'>\n",
      "<re.Match object; span=(4231, 4243), match='152-555-7417'>\n",
      "<re.Match object; span=(4323, 4335), match='893-555-9832'>\n",
      "<re.Match object; span=(4413, 4425), match='217-555-7123'>\n",
      "<re.Match object; span=(4504, 4516), match='786-555-6544'>\n",
      "<re.Match object; span=(4594, 4606), match='780-555-2574'>\n",
      "<re.Match object; span=(4682, 4694), match='926-555-8735'>\n",
      "<re.Match object; span=(4768, 4780), match='895-555-3539'>\n",
      "<re.Match object; span=(4865, 4877), match='874-555-3949'>\n",
      "<re.Match object; span=(4951, 4963), match='800-555-2420'>\n",
      "<re.Match object; span=(5040, 5052), match='936-555-6340'>\n",
      "<re.Match object; span=(5129, 5141), match='372-555-9809'>\n",
      "<re.Match object; span=(5216, 5228), match='890-555-5618'>\n",
      "<re.Match object; span=(5298, 5310), match='670-555-3005'>\n",
      "<re.Match object; span=(5388, 5400), match='509-555-5997'>\n",
      "<re.Match object; span=(5481, 5493), match='721-555-5632'>\n",
      "<re.Match object; span=(5572, 5584), match='900-555-3567'>\n",
      "<re.Match object; span=(5662, 5674), match='147-555-6830'>\n",
      "<re.Match object; span=(5751, 5763), match='582-555-3426'>\n",
      "<re.Match object; span=(5836, 5848), match='400-555-1706'>\n",
      "<re.Match object; span=(5927, 5939), match='525-555-1793'>\n",
      "<re.Match object; span=(6017, 6029), match='317-555-6700'>\n",
      "<re.Match object; span=(6105, 6117), match='974-555-8301'>\n",
      "<re.Match object; span=(6195, 6207), match='800-555-3216'>\n",
      "<re.Match object; span=(6281, 6293), match='746-555-4094'>\n",
      "<re.Match object; span=(6368, 6380), match='922-555-1773'>\n",
      "<re.Match object; span=(6453, 6465), match='711-555-4427'>\n",
      "<re.Match object; span=(6538, 6550), match='355-555-1872'>\n",
      "<re.Match object; span=(6627, 6639), match='852-555-6521'>\n",
      "<re.Match object; span=(6719, 6731), match='691-555-5773'>\n",
      "<re.Match object; span=(6811, 6823), match='332-555-5441'>\n",
      "<re.Match object; span=(6897, 6909), match='900-555-7755'>\n",
      "<re.Match object; span=(6979, 6991), match='379-555-3685'>\n",
      "<re.Match object; span=(7069, 7081), match='127-555-9682'>\n",
      "<re.Match object; span=(7160, 7172), match='789-555-7032'>\n",
      "<re.Match object; span=(7251, 7263), match='783-555-5135'>\n",
      "<re.Match object; span=(7344, 7356), match='315-555-6507'>\n",
      "<re.Match object; span=(7435, 7447), match='481-555-5835'>\n",
      "<re.Match object; span=(7523, 7535), match='365-555-8287'>\n",
      "<re.Match object; span=(7615, 7627), match='911-555-7535'>\n",
      "<re.Match object; span=(7701, 7713), match='681-555-2460'>\n",
      "<re.Match object; span=(7787, 7799), match='274-555-9800'>\n",
      "<re.Match object; span=(7872, 7884), match='800-555-1372'>\n",
      "<re.Match object; span=(7961, 7973), match='300-555-7821'>\n",
      "<re.Match object; span=(8051, 8063), match='133-555-3889'>\n",
      "<re.Match object; span=(8139, 8151), match='705-555-6863'>\n",
      "<re.Match object; span=(8228, 8240), match='215-555-9449'>\n",
      "<re.Match object; span=(8319, 8331), match='988-555-6112'>\n",
      "<re.Match object; span=(8405, 8417), match='623-555-3006'>\n",
      "<re.Match object; span=(8489, 8501), match='192-555-4977'>\n",
      "<re.Match object; span=(8574, 8586), match='178-555-4899'>\n",
      "<re.Match object; span=(8658, 8670), match='952-555-3089'>\n",
      "<re.Match object; span=(8751, 8763), match='900-555-6426'>\n"
     ]
    }
   ],
   "source": [
    "f=open('regex_data.txt')             # By default it will open in read mode\n",
    "text = f.read()\n",
    "\n",
    "pattern = re.compile(r'\\b\\d\\d\\d-\\d\\d\\d-\\d\\d\\d\\d\\b')\n",
    "\n",
    "matches = pattern.finditer(text)\n",
    "\n",
    "for match in matches:\n",
    "    print(match)"
   ]
  },
  {
   "cell_type": "code",
   "execution_count": 9,
   "metadata": {},
   "outputs": [
    {
     "name": "stdout",
     "output_type": "stream",
     "text": [
      "<re.Match object; span=(56, 68), match='321-555-4321'>\n",
      "<re.Match object; span=(170, 182), match='321-555-4321'>\n",
      "<re.Match object; span=(183, 195), match='123.555.1234'>\n",
      "<re.Match object; span=(210, 222), match='123.555.1234'>\n",
      "<re.Match object; span=(223, 235), match='800-555-1234'>\n",
      "<re.Match object; span=(236, 248), match='900-555-1234'>\n",
      "<re.Match object; span=(249, 261), match='900-555.1234'>\n"
     ]
    }
   ],
   "source": [
    "# What if 345.567-3456 such numbers in 3-3-4 set with any char in betn are phone numbers\n",
    "# How to extract them ?\n",
    "\n",
    "text_to_search = '''abcdefghijklmnopqurtuvwxyz\n",
    "ABCDEFGHIJKLMNOPQRSTUVWXYZ\\s\n",
    "321-555-4321\n",
    "1234567890\n",
    "Ha HaHa\n",
    "MetaCharacters (Need to be escaped):\n",
    ". ^ $ * + ? { } [ ] \\ | ( )\n",
    "khanafsaan11.com\n",
    "321-555-4321\n",
    "123.555.1234\n",
    "123*555*-1234\n",
    "123.555.1234\n",
    "800-555-1234\n",
    "900-555-1234\n",
    "900-555.1234\n",
    "Mr. Schafer\n",
    "Mr Smith\n",
    "Ms Davis\n",
    "Mrs. Robinson\n",
    "Mr. T\n",
    "Mr_hello\n",
    "'''\n",
    "\n",
    "pattern = re.compile(r'\\b\\d\\d\\d.\\d\\d\\d.\\d\\d\\d\\d\\b')\n",
    "\n",
    "matches = pattern.finditer(text_to_search)\n",
    "\n",
    "for match in matches:\n",
    "    print(match)"
   ]
  },
  {
   "cell_type": "code",
   "execution_count": 11,
   "metadata": {},
   "outputs": [
    {
     "name": "stdout",
     "output_type": "stream",
     "text": [
      "<re.Match object; span=(56, 68), match='321-555-4321'>\n",
      "<re.Match object; span=(170, 182), match='321-555-4321'>\n",
      "<re.Match object; span=(183, 195), match='123.555.1234'>\n",
      "<re.Match object; span=(210, 222), match='123.555.1234'>\n",
      "<re.Match object; span=(223, 235), match='800-555-1234'>\n",
      "<re.Match object; span=(236, 248), match='900-555-1234'>\n",
      "<re.Match object; span=(249, 261), match='900-555.1234'>\n"
     ]
    }
   ],
   "source": [
    "# What if 345.567-3456 such numbers in 3-3-4 set seperated with only dot and hyphan are required\n",
    "# Any other char in betn numbers are not allowed\n",
    "# How to extract them ?\n",
    "\n",
    "# [] will do the job in that case\n",
    "\n",
    "text_to_search = '''abcdefghijklmnopqurtuvwxyz\n",
    "ABCDEFGHIJKLMNOPQRSTUVWXYZ\\s\n",
    "321-555-4321\n",
    "1234567890\n",
    "Ha HaHa\n",
    "MetaCharacters (Need to be escaped):\n",
    ". ^ $ * + ? { } [ ] \\ | ( )\n",
    "khanafsaan11.com\n",
    "321-555-4321\n",
    "123.555.1234\n",
    "123*555*-1234\n",
    "123.555.1234\n",
    "800-555-1234\n",
    "900-555-1234\n",
    "900-555.1234\n",
    "Mr. Schafer\n",
    "Mr Smith\n",
    "Ms Davis\n",
    "Mrs. Robinson\n",
    "Mr. T\n",
    "Mr_hello\n",
    "'''\n",
    "\n",
    "pattern = re.compile(r'\\b\\d\\d\\d[.-]\\d\\d\\d[.-]\\d\\d\\d\\d\\b')\n",
    "\n",
    "matches = pattern.finditer(text_to_search)\n",
    "\n",
    "for match in matches:\n",
    "    print(match)"
   ]
  },
  {
   "cell_type": "code",
   "execution_count": 12,
   "metadata": {},
   "outputs": [
    {
     "name": "stdout",
     "output_type": "stream",
     "text": [
      "<re.Match object; span=(223, 235), match='800-555-1234'>\n",
      "<re.Match object; span=(236, 248), match='900-555-1234'>\n",
      "<re.Match object; span=(249, 261), match='900-555.1234'>\n"
     ]
    }
   ],
   "source": [
    "# Q4 - match only those phone number which starts with 800 or 900\n",
    "\n",
    "# answer 1\n",
    "\n",
    "pattern=re.compile(r'\\b[89]00[-.]\\d\\d\\d[-.]\\d\\d\\d\\d\\b') \n",
    "\n",
    "matches = pattern.finditer(text_to_search)\n",
    "\n",
    "for match in matches:\n",
    "    print(match)"
   ]
  },
  {
   "cell_type": "code",
   "execution_count": 13,
   "metadata": {},
   "outputs": [
    {
     "name": "stdout",
     "output_type": "stream",
     "text": [
      "<re.Match object; span=(223, 235), match='800-555-1234'>\n",
      "<re.Match object; span=(236, 248), match='900-555-1234'>\n",
      "<re.Match object; span=(249, 261), match='900-555.1234'>\n"
     ]
    }
   ],
   "source": [
    "#answer 2\n",
    "\n",
    "pattern = re.compile(r'\\b(800|900)[-.]\\d\\d\\d[-.]\\d\\d\\d\\d\\b')       # Using either or + group concept\n",
    "\n",
    "matches = pattern.finditer(text_to_search)\n",
    "\n",
    "for match in matches:\n",
    "    print(match)"
   ]
  },
  {
   "cell_type": "markdown",
   "metadata": {},
   "source": [
    "## Most of the regex you can get on google....Even the most experienced programmers dont put efforts in this.\n",
    "\n",
    "## You just need to search a regex that suits you and test it for some testcases and thats it\n",
    "\n",
    "## Still having a basic idea is always usefull"
   ]
  },
  {
   "cell_type": "code",
   "execution_count": 14,
   "metadata": {},
   "outputs": [
    {
     "name": "stdout",
     "output_type": "stream",
     "text": [
      "<re.Match object; span=(27, 28), match='A'>\n",
      "<re.Match object; span=(28, 29), match='B'>\n",
      "<re.Match object; span=(29, 30), match='C'>\n",
      "<re.Match object; span=(30, 31), match='D'>\n",
      "<re.Match object; span=(31, 32), match='E'>\n",
      "<re.Match object; span=(32, 33), match='F'>\n",
      "<re.Match object; span=(56, 57), match='3'>\n",
      "<re.Match object; span=(57, 58), match='2'>\n",
      "<re.Match object; span=(58, 59), match='1'>\n",
      "<re.Match object; span=(60, 61), match='5'>\n",
      "<re.Match object; span=(61, 62), match='5'>\n",
      "<re.Match object; span=(62, 63), match='5'>\n",
      "<re.Match object; span=(64, 65), match='4'>\n",
      "<re.Match object; span=(65, 66), match='3'>\n",
      "<re.Match object; span=(66, 67), match='2'>\n",
      "<re.Match object; span=(67, 68), match='1'>\n",
      "<re.Match object; span=(69, 70), match='1'>\n",
      "<re.Match object; span=(70, 71), match='2'>\n",
      "<re.Match object; span=(71, 72), match='3'>\n",
      "<re.Match object; span=(72, 73), match='4'>\n",
      "<re.Match object; span=(73, 74), match='5'>\n",
      "<re.Match object; span=(92, 93), match='C'>\n",
      "<re.Match object; span=(163, 164), match='1'>\n",
      "<re.Match object; span=(164, 165), match='1'>\n",
      "<re.Match object; span=(170, 171), match='3'>\n",
      "<re.Match object; span=(171, 172), match='2'>\n",
      "<re.Match object; span=(172, 173), match='1'>\n",
      "<re.Match object; span=(174, 175), match='5'>\n",
      "<re.Match object; span=(175, 176), match='5'>\n",
      "<re.Match object; span=(176, 177), match='5'>\n",
      "<re.Match object; span=(178, 179), match='4'>\n",
      "<re.Match object; span=(179, 180), match='3'>\n",
      "<re.Match object; span=(180, 181), match='2'>\n",
      "<re.Match object; span=(181, 182), match='1'>\n",
      "<re.Match object; span=(183, 184), match='1'>\n",
      "<re.Match object; span=(184, 185), match='2'>\n",
      "<re.Match object; span=(185, 186), match='3'>\n",
      "<re.Match object; span=(187, 188), match='5'>\n",
      "<re.Match object; span=(188, 189), match='5'>\n",
      "<re.Match object; span=(189, 190), match='5'>\n",
      "<re.Match object; span=(191, 192), match='1'>\n",
      "<re.Match object; span=(192, 193), match='2'>\n",
      "<re.Match object; span=(193, 194), match='3'>\n",
      "<re.Match object; span=(194, 195), match='4'>\n",
      "<re.Match object; span=(196, 197), match='1'>\n",
      "<re.Match object; span=(197, 198), match='2'>\n",
      "<re.Match object; span=(198, 199), match='3'>\n",
      "<re.Match object; span=(200, 201), match='5'>\n",
      "<re.Match object; span=(201, 202), match='5'>\n",
      "<re.Match object; span=(202, 203), match='5'>\n",
      "<re.Match object; span=(205, 206), match='1'>\n",
      "<re.Match object; span=(206, 207), match='2'>\n",
      "<re.Match object; span=(207, 208), match='3'>\n",
      "<re.Match object; span=(208, 209), match='4'>\n",
      "<re.Match object; span=(210, 211), match='1'>\n",
      "<re.Match object; span=(211, 212), match='2'>\n",
      "<re.Match object; span=(212, 213), match='3'>\n",
      "<re.Match object; span=(214, 215), match='5'>\n",
      "<re.Match object; span=(215, 216), match='5'>\n",
      "<re.Match object; span=(216, 217), match='5'>\n",
      "<re.Match object; span=(218, 219), match='1'>\n",
      "<re.Match object; span=(219, 220), match='2'>\n",
      "<re.Match object; span=(220, 221), match='3'>\n",
      "<re.Match object; span=(221, 222), match='4'>\n",
      "<re.Match object; span=(227, 228), match='5'>\n",
      "<re.Match object; span=(228, 229), match='5'>\n",
      "<re.Match object; span=(229, 230), match='5'>\n",
      "<re.Match object; span=(231, 232), match='1'>\n",
      "<re.Match object; span=(232, 233), match='2'>\n",
      "<re.Match object; span=(233, 234), match='3'>\n",
      "<re.Match object; span=(234, 235), match='4'>\n",
      "<re.Match object; span=(240, 241), match='5'>\n",
      "<re.Match object; span=(241, 242), match='5'>\n",
      "<re.Match object; span=(242, 243), match='5'>\n",
      "<re.Match object; span=(244, 245), match='1'>\n",
      "<re.Match object; span=(245, 246), match='2'>\n",
      "<re.Match object; span=(246, 247), match='3'>\n",
      "<re.Match object; span=(247, 248), match='4'>\n",
      "<re.Match object; span=(253, 254), match='5'>\n",
      "<re.Match object; span=(254, 255), match='5'>\n",
      "<re.Match object; span=(255, 256), match='5'>\n",
      "<re.Match object; span=(257, 258), match='1'>\n",
      "<re.Match object; span=(258, 259), match='2'>\n",
      "<re.Match object; span=(259, 260), match='3'>\n",
      "<re.Match object; span=(260, 261), match='4'>\n",
      "<re.Match object; span=(286, 287), match='D'>\n"
     ]
    }
   ],
   "source": [
    "pattern = re.compile(r'[1-5A-F]')           # 1-5 inside bracket means 1 2 3 4 5 similarly for A-F\n",
    "\n",
    "matches = pattern.finditer(text_to_search)\n",
    "\n",
    "for match in matches:\n",
    "    print(match)"
   ]
  },
  {
   "cell_type": "code",
   "execution_count": 16,
   "metadata": {},
   "outputs": [
    {
     "name": "stdout",
     "output_type": "stream",
     "text": [
      "<re.Match object; span=(26, 27), match='\\n'>\n",
      "<re.Match object; span=(53, 54), match='\\\\'>\n",
      "<re.Match object; span=(55, 56), match='\\n'>\n",
      "<re.Match object; span=(59, 60), match='-'>\n",
      "<re.Match object; span=(63, 64), match='-'>\n",
      "<re.Match object; span=(68, 69), match='\\n'>\n",
      "<re.Match object; span=(79, 80), match='\\n'>\n",
      "<re.Match object; span=(82, 83), match=' '>\n",
      "<re.Match object; span=(87, 88), match='\\n'>\n",
      "<re.Match object; span=(102, 103), match=' '>\n",
      "<re.Match object; span=(103, 104), match='('>\n",
      "<re.Match object; span=(108, 109), match=' '>\n",
      "<re.Match object; span=(111, 112), match=' '>\n",
      "<re.Match object; span=(114, 115), match=' '>\n",
      "<re.Match object; span=(122, 123), match=')'>\n",
      "<re.Match object; span=(123, 124), match=':'>\n",
      "<re.Match object; span=(124, 125), match='\\n'>\n",
      "<re.Match object; span=(125, 126), match='.'>\n",
      "<re.Match object; span=(126, 127), match=' '>\n",
      "<re.Match object; span=(127, 128), match='^'>\n",
      "<re.Match object; span=(128, 129), match=' '>\n",
      "<re.Match object; span=(129, 130), match='$'>\n",
      "<re.Match object; span=(130, 131), match=' '>\n",
      "<re.Match object; span=(131, 132), match='*'>\n",
      "<re.Match object; span=(132, 133), match=' '>\n",
      "<re.Match object; span=(133, 134), match='+'>\n",
      "<re.Match object; span=(134, 135), match=' '>\n",
      "<re.Match object; span=(135, 136), match='?'>\n",
      "<re.Match object; span=(136, 137), match=' '>\n",
      "<re.Match object; span=(137, 138), match='{'>\n",
      "<re.Match object; span=(138, 139), match=' '>\n",
      "<re.Match object; span=(139, 140), match='}'>\n",
      "<re.Match object; span=(140, 141), match=' '>\n",
      "<re.Match object; span=(141, 142), match='['>\n",
      "<re.Match object; span=(142, 143), match=' '>\n",
      "<re.Match object; span=(143, 144), match=']'>\n",
      "<re.Match object; span=(144, 145), match=' '>\n",
      "<re.Match object; span=(145, 146), match='\\\\'>\n",
      "<re.Match object; span=(146, 147), match=' '>\n",
      "<re.Match object; span=(147, 148), match='|'>\n",
      "<re.Match object; span=(148, 149), match=' '>\n",
      "<re.Match object; span=(149, 150), match='('>\n",
      "<re.Match object; span=(150, 151), match=' '>\n",
      "<re.Match object; span=(151, 152), match=')'>\n",
      "<re.Match object; span=(152, 153), match='\\n'>\n",
      "<re.Match object; span=(165, 166), match='.'>\n",
      "<re.Match object; span=(169, 170), match='\\n'>\n",
      "<re.Match object; span=(173, 174), match='-'>\n",
      "<re.Match object; span=(177, 178), match='-'>\n",
      "<re.Match object; span=(182, 183), match='\\n'>\n",
      "<re.Match object; span=(186, 187), match='.'>\n",
      "<re.Match object; span=(190, 191), match='.'>\n",
      "<re.Match object; span=(195, 196), match='\\n'>\n",
      "<re.Match object; span=(199, 200), match='*'>\n",
      "<re.Match object; span=(203, 204), match='*'>\n",
      "<re.Match object; span=(204, 205), match='-'>\n",
      "<re.Match object; span=(209, 210), match='\\n'>\n",
      "<re.Match object; span=(213, 214), match='.'>\n",
      "<re.Match object; span=(217, 218), match='.'>\n",
      "<re.Match object; span=(222, 223), match='\\n'>\n",
      "<re.Match object; span=(226, 227), match='-'>\n",
      "<re.Match object; span=(230, 231), match='-'>\n",
      "<re.Match object; span=(235, 236), match='\\n'>\n",
      "<re.Match object; span=(239, 240), match='-'>\n",
      "<re.Match object; span=(243, 244), match='-'>\n",
      "<re.Match object; span=(248, 249), match='\\n'>\n",
      "<re.Match object; span=(252, 253), match='-'>\n",
      "<re.Match object; span=(256, 257), match='.'>\n",
      "<re.Match object; span=(261, 262), match='\\n'>\n",
      "<re.Match object; span=(264, 265), match='.'>\n",
      "<re.Match object; span=(265, 266), match=' '>\n",
      "<re.Match object; span=(273, 274), match='\\n'>\n",
      "<re.Match object; span=(276, 277), match=' '>\n",
      "<re.Match object; span=(282, 283), match='\\n'>\n",
      "<re.Match object; span=(285, 286), match=' '>\n",
      "<re.Match object; span=(291, 292), match='\\n'>\n",
      "<re.Match object; span=(295, 296), match='.'>\n",
      "<re.Match object; span=(296, 297), match=' '>\n",
      "<re.Match object; span=(305, 306), match='\\n'>\n",
      "<re.Match object; span=(308, 309), match='.'>\n",
      "<re.Match object; span=(309, 310), match=' '>\n",
      "<re.Match object; span=(311, 312), match='\\n'>\n",
      "<re.Match object; span=(314, 315), match='_'>\n",
      "<re.Match object; span=(320, 321), match='\\n'>\n"
     ]
    }
   ],
   "source": [
    "# [^ ] - match character not in the bracket\n",
    "\n",
    "pattern = re.compile(r'[^0-9A-Za-z]') \n",
    "\n",
    "matches = pattern.finditer(text_to_search)\n",
    "\n",
    "for match in matches:\n",
    "    print(match)"
   ]
  },
  {
   "cell_type": "code",
   "execution_count": 22,
   "metadata": {},
   "outputs": [
    {
     "name": "stdout",
     "output_type": "stream",
     "text": [
      "<re.Match object; span=(0, 3), match='cat'>\n",
      "<re.Match object; span=(4, 7), match='fat'>\n",
      "<re.Match object; span=(8, 11), match='mat'>\n"
     ]
    }
   ],
   "source": [
    "# question -- extract everything except bat\n",
    "\n",
    "text='cat fat mat bat'\n",
    "\n",
    "pattern = re.compile('[^b]at')            # not b then at\n",
    "\n",
    "matches = pattern.finditer(text)\n",
    "\n",
    "for match in matches:\n",
    "    print(match)"
   ]
  },
  {
   "cell_type": "markdown",
   "metadata": {},
   "source": [
    "## Till now we are matching single char at a time, first not b,then a,then t like that...\n",
    "## What if we want to match multiple characters at a time\n",
    "## We use quantifiers for that"
   ]
  },
  {
   "cell_type": "code",
   "execution_count": 28,
   "metadata": {},
   "outputs": [
    {
     "name": "stdout",
     "output_type": "stream",
     "text": [
      "<re.Match object; span=(56, 68), match='321-555-4321'>\n",
      "<re.Match object; span=(170, 182), match='321-555-4321'>\n",
      "<re.Match object; span=(183, 195), match='123.555.1234'>\n",
      "<re.Match object; span=(196, 208), match='123*555*1234'>\n",
      "<re.Match object; span=(209, 221), match='123.555.1234'>\n",
      "<re.Match object; span=(222, 234), match='800-555-1234'>\n",
      "<re.Match object; span=(235, 247), match='900-555-1234'>\n",
      "<re.Match object; span=(248, 260), match='900-555.1234'>\n"
     ]
    }
   ],
   "source": [
    "text_to_search = '''abcdefghijklmnopqurtuvwxyz\n",
    "ABCDEFGHIJKLMNOPQRSTUVWXYZ\\s\n",
    "321-555-4321\n",
    "1234567890\n",
    "Ha HaHa\n",
    "MetaCharacters (Need to be escaped):\n",
    ". ^ $ * + ? { } [ ] \\ | ( )\n",
    "khanafsaan11.com\n",
    "321-555-4321\n",
    "123.555.1234\n",
    "123*555*1234\n",
    "123.555.1234\n",
    "800-555-1234\n",
    "900-555-1234\n",
    "900-555.1234\n",
    "Mr. Schafer\n",
    "Mr Smith\n",
    "Ms Davis\n",
    "Mrs. Robinson\n",
    "Mr. T\n",
    "Mr_hello\n",
    "'''\n",
    "\n",
    "pattern = re.compile(r'\\b\\d{3}.\\d{3}.\\d{4}\\b')      # \\d{3} means \\d three times\n",
    "\n",
    "matches = pattern.finditer(text_to_search)\n",
    "\n",
    "for match in matches:\n",
    "    print(match)"
   ]
  },
  {
   "cell_type": "code",
   "execution_count": 32,
   "metadata": {},
   "outputs": [
    {
     "name": "stdout",
     "output_type": "stream",
     "text": [
      "<re.Match object; span=(261, 263), match='Mr'>\n",
      "<re.Match object; span=(273, 275), match='Mr'>\n",
      "<re.Match object; span=(282, 284), match='Ms'>\n",
      "<re.Match object; span=(291, 294), match='Mrs'>\n",
      "<re.Match object; span=(305, 307), match='Mr'>\n"
     ]
    }
   ],
   "source": [
    "# Extract all the names from the text\n",
    "# Approch the problem step by step \n",
    "# Explain each step\n",
    "\n",
    "text = '''abcdefghijklmnopqurtuvwxyz\n",
    "ABCDEFGHIJKLMNOPQRSTUVWXYZ\\s\n",
    "321-555-4321\n",
    "1234567890\n",
    "Ha HaHa\n",
    "MetaCharacters (Need to be escaped):\n",
    ". ^ $ * + ? { } [ ] \\ | ( )\n",
    "khanafsaan11.com\n",
    "321-555-4321\n",
    "123.555.1234\n",
    "123*555*1234\n",
    "123.555.1234\n",
    "800-555-1234\n",
    "900-555-1234\n",
    "900-555.1234\n",
    "Mr. Schafer\n",
    "Mr Smith\n",
    "Ms Davis\n",
    "Mrs. Robinson\n",
    "Mr. T\n",
    "Mr_hello\n",
    "'''\n",
    "\n",
    "pattern = re.compile(r'M(r|s|rs)\\b')      # Initials are extracted using grouping\n",
    "\n",
    "matches = pattern.finditer(text_to_search)\n",
    "\n",
    "for match in matches:\n",
    "    print(match)"
   ]
  },
  {
   "cell_type": "code",
   "execution_count": 33,
   "metadata": {},
   "outputs": [
    {
     "name": "stdout",
     "output_type": "stream",
     "text": [
      "<re.Match object; span=(261, 272), match='Mr. Schafer'>\n",
      "<re.Match object; span=(273, 281), match='Mr Smith'>\n",
      "<re.Match object; span=(282, 290), match='Ms Davis'>\n",
      "<re.Match object; span=(291, 304), match='Mrs. Robinson'>\n",
      "<re.Match object; span=(305, 310), match='Mr. T'>\n",
      "<re.Match object; span=(311, 319), match='Mr_hello'>\n"
     ]
    }
   ],
   "source": [
    "pattern = re.compile(r'M(r|s|rs).*\\b')    # dot can be there or cannot be there so either zero or more i.e *\n",
    "\n",
    "matches = pattern.finditer(text_to_search)\n",
    "\n",
    "for match in matches:\n",
    "    print(match)"
   ]
  },
  {
   "cell_type": "code",
   "execution_count": 39,
   "metadata": {},
   "outputs": [
    {
     "name": "stdout",
     "output_type": "stream",
     "text": [
      "<re.Match object; span=(0, 3), match='abc'>\n",
      "<re.Match object; span=(4, 7), match='xyz'>\n",
      "<re.Match object; span=(11, 14), match='abc'>\n",
      "<re.Match object; span=(17, 20), match='123'>\n",
      "<re.Match object; span=(25, 28), match='abc'>\n"
     ]
    }
   ],
   "source": [
    "# group()\n",
    "\n",
    "# If we want to search abc or xyz or 123 as whole and not a then b then c...group is used\n",
    "\n",
    "text='abcjxyzkljfabcjfk123enfjkabc'\n",
    "\n",
    "pattern = re.compile('(abc)|(123)|(xyz)')    \n",
    "\n",
    "matches = pattern.finditer(text)\n",
    "\n",
    "for match in matches:\n",
    "    print(match)"
   ]
  },
  {
   "cell_type": "code",
   "execution_count": 52,
   "metadata": {},
   "outputs": [
    {
     "name": "stdout",
     "output_type": "stream",
     "text": [
      "<re.Match object; span=(1, 12), match='AfsanMKhan@'>\n",
      "<re.Match object; span=(34, 45), match='afsan.khan@'>\n",
      "<re.Match object; span=(68, 83), match='afsan-321-khan@'>\n",
      "<re.Match object; span=(103, 118), match='afsan-321-khan@'>\n"
     ]
    }
   ],
   "source": [
    "# Extract the valid emails out\n",
    "\n",
    "emails = '''\n",
    "AfsanMKhan@gmail.com     # valid\n",
    "afsan.khan@university.edu  #valid\n",
    "afsan-321-khan@my-work.net  #valid\n",
    "afsan-321-khan@my-work.abc  # not valid\n",
    "'''\n",
    "\n",
    "pattern = re.compile(r'[a-zA-Z0-9-.]+@')    \n",
    "\n",
    "matches = pattern.finditer(emails)\n",
    "\n",
    "for match in matches:\n",
    "    print(match)"
   ]
  },
  {
   "cell_type": "code",
   "execution_count": 56,
   "metadata": {},
   "outputs": [
    {
     "name": "stdout",
     "output_type": "stream",
     "text": [
      "<re.Match object; span=(1, 21), match='AfsanMKhan@gmail.com'>\n",
      "<re.Match object; span=(70, 95), match='afsan.khan@university.edu'>\n",
      "<re.Match object; span=(104, 130), match='afsan-321-khan@my-work.net'>\n"
     ]
    }
   ],
   "source": [
    "emails = '''\n",
    "AfsanMKhan@gmail.com     # valid                                    \n",
    "afsan.khan@university.edu  #valid\n",
    "afsan-321-khan@my-work.net  #valid\n",
    "afsan-321-khan@my-work.abc  # not valid\n",
    "'''\n",
    "\n",
    "pattern = re.compile(r'[a-zA-Z0-9-.]+@[A-z.-]+(edu|com|net)')    \n",
    "\n",
    "matches = pattern.finditer(emails)                  # A-z means A-Z and a-z\n",
    "\n",
    "for match in matches:\n",
    "    print(match)"
   ]
  },
  {
   "cell_type": "markdown",
   "metadata": {},
   "source": [
    "### Regex is highly used in NLP....You have to have good practise of Regex \n",
    "### It is very important topic"
   ]
  },
  {
   "cell_type": "code",
   "execution_count": null,
   "metadata": {},
   "outputs": [],
   "source": []
  }
 ],
 "metadata": {
  "kernelspec": {
   "display_name": "Python 3",
   "language": "python",
   "name": "python3"
  },
  "language_info": {
   "codemirror_mode": {
    "name": "ipython",
    "version": 3
   },
   "file_extension": ".py",
   "mimetype": "text/x-python",
   "name": "python",
   "nbconvert_exporter": "python",
   "pygments_lexer": "ipython3",
   "version": "3.8.5"
  }
 },
 "nbformat": 4,
 "nbformat_minor": 4
}
